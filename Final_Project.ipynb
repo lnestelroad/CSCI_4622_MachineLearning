{
 "cells": [
  {
   "source": [
    "# CSCI 4622 Machine Learning Final Project\n",
    "\n",
    "**Authors:**  \n",
    "+ Kaitlin Coleman _[kaitlin.coleman@colorado.edu]()_\n",
    "+ Jot Kaur _[jot.kaur@colorado.edu]()_\n",
    "+ Alex Ho _[alex.ho@colorado.edu]()_\n",
    "+ Liam Nestelroad _[liam.nestelroad@colorado.edu]()_"
   ],
   "cell_type": "markdown",
   "metadata": {}
  },
  {
   "cell_type": "code",
   "execution_count": 17,
   "metadata": {},
   "outputs": [
    {
     "output_type": "stream",
     "name": "stdout",
     "text": [
      "PyTorch version: 1.8.0+cpu\nTensorFlow version: 2.4.1\n"
     ]
    }
   ],
   "source": [
    "import os\n",
    "import time\n",
    "\n",
    "import tqdm\n",
    "import torch\n",
    "from matplotlib.pyplot import plot\n",
    "import pandas as pd\n",
    "import numpy as np\n",
    "import tensorflow as tf\n",
    "\n",
    "\n",
    "%matplotlib inline\n",
    "\n",
    "print(f\"PyTorch version: {torch.__version__}\")\n",
    "print(f\"TensorFlow version: {tf.__version__}\")\n"
   ]
  },
  {
   "cell_type": "code",
   "execution_count": null,
   "metadata": {},
   "outputs": [],
   "source": []
  }
 ],
 "metadata": {
  "kernelspec": {
   "name": "python38664bitmlenvvenvaa093f03f5f6488fa30515847c0bd224",
   "display_name": "Python 3.8.6 64-bit ('ml_env': venv)",
   "language": "python"
  }
 },
 "nbformat": 4,
 "nbformat_minor": 5
}