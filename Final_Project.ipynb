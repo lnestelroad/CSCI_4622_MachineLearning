{
 "cells": [
  {
   "source": [
    "# CSCI 4622 Machine Learning Final Project\n",
    "\n",
    "**Authors:**  \n",
    "+ Kaitlin Coleman _[kaitlin.coleman@colorado.edu]()_\n",
    "+ Jot Kaur _[jot.kaur@colorado.edu]()_\n",
    "+ Alex Ho _[alex.ho@colorado.edu]()_\n",
    "+ Liam Nestelroad _[liam.nestelroad@colorado.edu]()_"
   ],
   "cell_type": "markdown",
   "metadata": {}
  },
  {
   "cell_type": "code",
   "execution_count": 1,
   "metadata": {},
   "outputs": [
    {
     "output_type": "stream",
     "name": "stdout",
     "text": [
      "PyTorch version: 1.8.0+cpu\nTensorFlow version: 2.4.1\n"
     ]
    }
   ],
   "source": [
    "import os\n",
    "import time\n",
    "\n",
    "import tqdm\n",
    "import torch\n",
    "import numpy as np\n",
    "import pandas as pd\n",
    "import tensorflow as tf\n",
    "from matplotlib.pyplot import plot\n",
    "\n",
    "\n",
    "%matplotlib inline\n",
    "\n",
    "print(f\"PyTorch version: {torch.__version__}\")\n",
    "print(f\"TensorFlow version: {tf.__version__}\")\n"
   ]
  },
  {
   "source": [
    "## Summary"
   ],
   "cell_type": "markdown",
   "metadata": {}
  },
  {
   "source": [
    "## Data\n"
   ],
   "cell_type": "markdown",
   "metadata": {}
  },
  {
   "source": [
    "## Data Cleaning"
   ],
   "cell_type": "markdown",
   "metadata": {}
  },
  {
   "source": [
    "## EDA"
   ],
   "cell_type": "markdown",
   "metadata": {}
  },
  {
   "source": [
    "## Models"
   ],
   "cell_type": "markdown",
   "metadata": {}
  },
  {
   "source": [
    "### Random Forest Classifier"
   ],
   "cell_type": "markdown",
   "metadata": {}
  },
  {
   "source": [
    "### SVM"
   ],
   "cell_type": "markdown",
   "metadata": {}
  },
  {
   "source": [
    "### PCA"
   ],
   "cell_type": "markdown",
   "metadata": {}
  },
  {
   "source": [
    "### Logistic Regression"
   ],
   "cell_type": "markdown",
   "metadata": {}
  },
  {
   "source": [
    "## Results"
   ],
   "cell_type": "markdown",
   "metadata": {}
  },
  {
   "source": [
    "## Conclusions"
   ],
   "cell_type": "markdown",
   "metadata": {}
  },
  {
   "cell_type": "code",
   "execution_count": null,
   "metadata": {},
   "outputs": [],
   "source": []
  }
 ],
 "metadata": {
  "kernelspec": {
   "name": "python38664bit038503858662408699c59152fa20bab6",
   "display_name": "Python 3.8.6 64-bit ('ml_env')"
  },
  "metadata": {
   "interpreter": {
    "hash": "662892cf6f8240178718478ad5966fcec0594fa47a859150d974e7587f56c3c6"
   }
  }
 },
 "nbformat": 4,
 "nbformat_minor": 5
}